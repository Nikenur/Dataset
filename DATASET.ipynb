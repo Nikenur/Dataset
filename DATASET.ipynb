{
  "nbformat": 4,
  "nbformat_minor": 0,
  "metadata": {
    "colab": {
      "provenance": []
    },
    "kernelspec": {
      "name": "python3",
      "display_name": "Python 3"
    },
    "language_info": {
      "name": "python"
    }
  },
  "cells": [
    {
      "cell_type": "code",
      "execution_count": 1,
      "metadata": {
        "colab": {
          "base_uri": "https://localhost:8080/"
        },
        "id": "qdVHDaZ0DWZL",
        "outputId": "babbd5ca-decc-465e-e583-a283885d188f"
      },
      "outputs": [
        {
          "output_type": "stream",
          "name": "stdout",
          "text": [
            "{'Konten': 'Pemberitahuan hadiah besar', 'Label': 'Spam'}\n",
            "{'Konten': 'Pertemuan besok siang', 'Label': 'Tidak Spam'}\n",
            "{'Konten': 'Undangan pesta akhir pekan', 'Label': 'Tidak Spam'}\n",
            "{'Konten': 'Dapatkan diskon besar hari ini', 'Label': 'Spam'}\n",
            "{'Konten': 'Rapat kerja minggu depan', 'Label': 'Tidak Spam'}\n"
          ]
        }
      ],
      "source": [
        "# Contoh dataset sederhana\n",
        "dataset = [\n",
        "    {'Konten': 'Pemberitahuan hadiah besar', 'Label': 'Spam'},\n",
        "    {'Konten': 'Pertemuan besok siang', 'Label': 'Tidak Spam'},\n",
        "    {'Konten': 'Undangan pesta akhir pekan', 'Label': 'Tidak Spam'},\n",
        "    {'Konten': 'Dapatkan diskon besar hari ini', 'Label': 'Spam'},\n",
        "    {'Konten': 'Rapat kerja minggu depan', 'Label': 'Tidak Spam'},\n",
        "]\n",
        "\n",
        "# Menampilkan dataset\n",
        "for data in dataset:\n",
        "    print(data)\n"
      ]
    },
    {
      "cell_type": "code",
      "source": [
        "# Menghitung probabilitas prior\n",
        "def hitung_prior(dataset):\n",
        "    label_counts = {}\n",
        "    for data in dataset:\n",
        "        label = data['Label']\n",
        "        label_counts[label] = label_counts.get(label, 0) + 1\n",
        "    total_data = len(dataset)\n",
        "    prior = {label: count / total_data for label, count in label_counts.items()}\n",
        "    return prior\n",
        "\n",
        "# Menghitung probabilitas likelihood\n",
        "def hitung_likelihood(dataset):\n",
        "    likelihood = {}\n",
        "    for data in dataset:\n",
        "        label = data['Label']\n",
        "        konten = data['Konten']\n",
        "        if label not in likelihood:\n",
        "            likelihood[label] = {}\n",
        "        for kata in konten.split():\n",
        "            if kata not in likelihood[label]:\n",
        "                likelihood[label][kata] = 0\n",
        "            likelihood[label][kata] += 1\n",
        "    for label in likelihood:\n",
        "        total_kata = sum(likelihood[label].values())\n",
        "        likelihood[label] = {kata: count / total_kata for kata, count in likelihood[label].items()}\n",
        "    return likelihood\n",
        "\n",
        "# Menghitung prior dan likelihood\n",
        "prior = hitung_prior(dataset)\n",
        "likelihood = hitung_likelihood(dataset)\n",
        "print(\"Prior:\", prior)\n",
        "print(\"Likelihood:\", likelihood)\n"
      ],
      "metadata": {
        "colab": {
          "base_uri": "https://localhost:8080/"
        },
        "id": "Lu8roBCWD3UO",
        "outputId": "93216fdb-4596-4414-9687-8c12c999372b"
      },
      "execution_count": 5,
      "outputs": [
        {
          "output_type": "stream",
          "name": "stdout",
          "text": [
            "Prior: {'Spam': 0.4, 'Tidak Spam': 0.6}\n",
            "Likelihood: {'Spam': {'Pemberitahuan': 0.125, 'hadiah': 0.125, 'besar': 0.25, 'Dapatkan': 0.125, 'diskon': 0.125, 'hari': 0.125, 'ini': 0.125}, 'Tidak Spam': {'Pertemuan': 0.09090909090909091, 'besok': 0.09090909090909091, 'siang': 0.09090909090909091, 'Undangan': 0.09090909090909091, 'pesta': 0.09090909090909091, 'akhir': 0.09090909090909091, 'pekan': 0.09090909090909091, 'Rapat': 0.09090909090909091, 'kerja': 0.09090909090909091, 'minggu': 0.09090909090909091, 'depan': 0.09090909090909091}}\n"
          ]
        }
      ]
    },
    {
      "cell_type": "code",
      "source": [
        "# Fungsi prediksi\n",
        "def prediksi(konten, prior, likelihood):\n",
        "    hasil = {}\n",
        "    for label in prior:\n",
        "        prob = prior[label]\n",
        "        for kata in konten.split():\n",
        "            prob *= likelihood[label].get(kata, 1e-6)\n",
        "            # Menggunakan nilai kecil untuk kata yang tidak ditemukan\n",
        "        hasil[label] = prob\n",
        "    return max(hasil, key=hasil.get)\n",
        "\n",
        "# Contoh prediksi\n",
        "konten_uji = 'Dapatkan hadiah besar'\n",
        "label_prediksi = prediksi(konten_uji, prior, likelihood)\n",
        "print(f'Konten: \"{konten_uji}\" diklasifikasikan sebagai: {label_prediksi}')\n"
      ],
      "metadata": {
        "colab": {
          "base_uri": "https://localhost:8080/"
        },
        "id": "aiuWhukzEr5E",
        "outputId": "709f1c01-1ac8-4cbe-e199-b4db0949a13e"
      },
      "execution_count": 6,
      "outputs": [
        {
          "output_type": "stream",
          "name": "stdout",
          "text": [
            "Konten: \"Dapatkan hadiah besar\" diklasifikasikan sebagai: Spam\n"
          ]
        }
      ]
    }
  ]
}